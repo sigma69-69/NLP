{
 "cells": [
  {
   "cell_type": "code",
   "execution_count": 1,
   "id": "94224821",
   "metadata": {},
   "outputs": [
    {
     "name": "stdout",
     "output_type": "stream",
     "text": [
      "Tokens: ['Natural', 'language', 'Processing', 'is', 'a', 'Fascinating', 'field', 'of', 'study', '.']\n",
      "Lemmas: ['natural', 'language', 'processing', 'be', 'a', 'fascinating', 'field', 'of', 'study', '.']\n",
      "Natural amod language NOUN []\n",
      "language compound Processing NOUN [Natural]\n",
      "Processing nsubj is AUX [language]\n",
      "is ROOT is AUX [Processing, field, .]\n",
      "a det field NOUN []\n",
      "Fascinating amod field NOUN []\n",
      "field attr is AUX [a, Fascinating, of]\n",
      "of prep field NOUN [study]\n",
      "study pobj of ADP []\n",
      ". punct is AUX []\n"
     ]
    }
   ],
   "source": [
    "import spacy\n",
    "\n",
    "nlp=spacy.load(\"en_core_web_sm\")\n",
    "text=\"Natural language Processing is a Fascinating field of study.\"\n",
    "\n",
    "doc=nlp(text)\n",
    "tokens=[token.text for token in doc]\n",
    "lemmas=[token.lemma_ for token in doc]\n",
    "\n",
    "print(\"Tokens:\",tokens)\n",
    "print(\"Lemmas:\",lemmas)\n",
    "\n",
    "\n",
    "for token in doc:\n",
    "    print(token.text,token.dep_,token.head.text,token.head.pos_,[child for child in token.children])\n",
    "    "
   ]
  },
  {
   "cell_type": "code",
   "execution_count": null,
   "id": "efc8ccea",
   "metadata": {},
   "outputs": [],
   "source": []
  }
 ],
 "metadata": {
  "kernelspec": {
   "display_name": "Python 3 (ipykernel)",
   "language": "python",
   "name": "python3"
  },
  "language_info": {
   "codemirror_mode": {
    "name": "ipython",
    "version": 3
   },
   "file_extension": ".py",
   "mimetype": "text/x-python",
   "name": "python",
   "nbconvert_exporter": "python",
   "pygments_lexer": "ipython3",
   "version": "3.10.1"
  }
 },
 "nbformat": 4,
 "nbformat_minor": 5
}
