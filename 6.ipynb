{
 "cells": [
  {
   "cell_type": "code",
   "execution_count": 1,
   "id": "fef232d2",
   "metadata": {},
   "outputs": [
    {
     "name": "stdout",
     "output_type": "stream",
     "text": [
      "Accuracy: 0.9389623601220752\n",
      "\n",
      "Classification Report:\n",
      "                          precision    recall  f1-score   support\n",
      "\n",
      "comp.sys.ibm.pc.hardware       0.92      0.91      0.91       212\n",
      "   comp.sys.mac.hardware       0.94      0.93      0.94       198\n",
      "               rec.autos       0.97      0.93      0.95       179\n",
      "         rec.motorcycles       0.96      0.99      0.97       205\n",
      "         sci.electronics       0.92      0.93      0.92       189\n",
      "\n",
      "                accuracy                           0.94       983\n",
      "               macro avg       0.94      0.94      0.94       983\n",
      "            weighted avg       0.94      0.94      0.94       983\n",
      "\n"
     ]
    }
   ],
   "source": [
    "from sklearn.datasets import fetch_20newsgroups\n",
    "from sklearn.feature_extraction.text import TfidfVectorizer\n",
    "from sklearn.model_selection import train_test_split\n",
    "from sklearn.svm import LinearSVC\n",
    "from sklearn.metrics import accuracy_score, classification_report\n",
    "\n",
    "newsgroups = fetch_20newsgroups(subset='all', categories=['comp.sys.ibm.pc.hardware',\n",
    "'comp.sys.mac.hardware', 'rec.autos', 'rec.motorcycles', 'sci.electronics'])\n",
    "\n",
    "X = newsgroups.data\n",
    "y = newsgroups.target\n",
    "\n",
    "X_train, X_test, y_train, y_test = train_test_split(X, y, test_size=0.2, random_state=42)\n",
    "\n",
    "vectorizer = TfidfVectorizer(stop_words='english', max_features=10000)\n",
    "X_train = vectorizer.fit_transform(X_train)\n",
    "X_test = vectorizer.transform(X_test)\n",
    "\n",
    "classifier = LinearSVC()\n",
    "classifier.fit(X_train, y_train)\n",
    "\n",
    "predictions = classifier.predict(X_test)\n",
    "\n",
    "accuracy = accuracy_score(y_test, predictions)\n",
    "print(\"Accuracy:\", accuracy)\n",
    "print(\"\\nClassification Report:\")\n",
    "print(classification_report(y_test, predictions, target_names=newsgroups.target_names))"
   ]
  },
  {
   "cell_type": "code",
   "execution_count": null,
   "id": "38fa348f",
   "metadata": {},
   "outputs": [],
   "source": []
  }
 ],
 "metadata": {
  "kernelspec": {
   "display_name": "Python 3 (ipykernel)",
   "language": "python",
   "name": "python3"
  },
  "language_info": {
   "codemirror_mode": {
    "name": "ipython",
    "version": 3
   },
   "file_extension": ".py",
   "mimetype": "text/x-python",
   "name": "python",
   "nbconvert_exporter": "python",
   "pygments_lexer": "ipython3",
   "version": "3.10.1"
  }
 },
 "nbformat": 4,
 "nbformat_minor": 5
}
