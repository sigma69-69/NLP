{
 "cells": [
  {
   "cell_type": "code",
   "execution_count": 3,
   "id": "35cf03bb",
   "metadata": {},
   "outputs": [
    {
     "name": "stdout",
     "output_type": "stream",
     "text": [
      "Original Text: The quick brown fox jumps over the lazy dog.\n",
      "Noun Phrases:\n",
      "- The quick brown\n",
      "Original Text: The quick brown fox jumps over the lazy dog.\n",
      "Noun Phrases:\n",
      "- The quick brown\n",
      "- fox\n",
      "Original Text: The quick brown fox jumps over the lazy dog.\n",
      "Noun Phrases:\n",
      "- The quick brown\n",
      "- fox\n",
      "- the lazy dog\n"
     ]
    },
    {
     "name": "stderr",
     "output_type": "stream",
     "text": [
      "[nltk_data] Downloading package punkt to\n",
      "[nltk_data]     C:\\Users\\online\\AppData\\Roaming\\nltk_data...\n",
      "[nltk_data]   Package punkt is already up-to-date!\n",
      "[nltk_data] Downloading package averaged_perceptron_tagger to\n",
      "[nltk_data]     C:\\Users\\online\\AppData\\Roaming\\nltk_data...\n",
      "[nltk_data]   Package averaged_perceptron_tagger is already up-to-\n",
      "[nltk_data]       date!\n"
     ]
    }
   ],
   "source": [
    "import nltk\n",
    "import os\n",
    "# Set NLTK data path\n",
    "nltk.data.path.append(\"/usr/local/share/nltk_data\")\n",
    "# Download the 'punkt' tokenizer model\n",
    "nltk.download('punkt')\n",
    "# Download the 'averaged_perceptron_tagger' model\n",
    "nltk.download('averaged_perceptron_tagger')\n",
    "# Sample text\n",
    "text = \"The quick brown fox jumps over the lazy dog.\"\n",
    "# Tokenize the text into words\n",
    "words = nltk.word_tokenize(text)\n",
    "# Perform part-of-speech tagging\n",
    "pos_tags = nltk.pos_tag(words)\n",
    "# Define chunk grammar\n",
    "chunk_grammar = r\"\"\"\n",
    "NP: {<DT>?<JJ>*<NN>} # Chunk sequences of DT, JJ, NN\n",
    "\"\"\"\n",
    "# Create chunk parser\n",
    "chunk_parser = nltk.RegexpParser(chunk_grammar)\n",
    "# Apply chunking\n",
    "chunked_text = chunk_parser.parse(pos_tags)\n",
    "# Extract noun phrases\n",
    "noun_phrases = []\n",
    "for subtree in chunked_text.subtrees(filter=lambda t: t.label() =='NP'):\n",
    "    noun_phrases.append(' '.join(word for word, tag in\n",
    "    subtree.leaves()))\n",
    "    # Output\n",
    "    print(\"Original Text:\", text)\n",
    "    print(\"Noun Phrases:\")\n",
    "    for phrase in noun_phrases:\n",
    "        print(\"-\", phrase)"
   ]
  },
  {
   "cell_type": "code",
   "execution_count": null,
   "id": "a0eb8452",
   "metadata": {},
   "outputs": [],
   "source": []
  }
 ],
 "metadata": {
  "kernelspec": {
   "display_name": "Python 3 (ipykernel)",
   "language": "python",
   "name": "python3"
  },
  "language_info": {
   "codemirror_mode": {
    "name": "ipython",
    "version": 3
   },
   "file_extension": ".py",
   "mimetype": "text/x-python",
   "name": "python",
   "nbconvert_exporter": "python",
   "pygments_lexer": "ipython3",
   "version": "3.10.1"
  }
 },
 "nbformat": 4,
 "nbformat_minor": 5
}
