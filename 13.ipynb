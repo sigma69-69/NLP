{
 "cells": [
  {
   "cell_type": "code",
   "execution_count": 3,
   "id": "9bcf5c6d",
   "metadata": {},
   "outputs": [
    {
     "name": "stdout",
     "output_type": "stream",
     "text": [
      "(NP The/DT quick/JJ brown/NN)\n",
      "(NP fox/NN)\n",
      "(NP the/DT lazy/JJ dog/NN)\n"
     ]
    },
    {
     "name": "stderr",
     "output_type": "stream",
     "text": [
      "[nltk_data] Downloading package punkt to\n",
      "[nltk_data]     C:\\Users\\online\\AppData\\Roaming\\nltk_data...\n",
      "[nltk_data]   Package punkt is already up-to-date!\n",
      "[nltk_data] Downloading package averaged_perceptron_tagger to\n",
      "[nltk_data]     C:\\Users\\online\\AppData\\Roaming\\nltk_data...\n",
      "[nltk_data]   Package averaged_perceptron_tagger is already up-to-\n",
      "[nltk_data]       date!\n"
     ]
    }
   ],
   "source": [
    "import nltk\n",
    "from nltk import RegexpParser\n",
    "from nltk.tokenize import word_tokenize\n",
    "from nltk.tag import pos_tag\n",
    "# Download NLTK resources (run only once if not downloaded)\n",
    "nltk.download('punkt')\n",
    "nltk.download('averaged_perceptron_tagger')\n",
    "# Sample sentence\n",
    "sentence = \"The quick brown fox jumps over the lazy dog\"\n",
    "# Tokenize the sentence\n",
    "tokens = word_tokenize(sentence)\n",
    "# POS tagging\n",
    "tagged = pos_tag(tokens)\n",
    "# Define a chunk grammar using regular expressions\n",
    "# NP (noun phrase) chunking: \"NP: {<DT>?<JJ>*<NN>}\"\n",
    "# This grammar captures optional determiner (DT), adjectives (JJ), and nouns (NN) as a noun phrase\n",
    "chunk_grammar = r\"\"\"\n",
    "NP: {<DT>?<JJ>*<NN>}\n",
    "\"\"\"\n",
    "# Create a chunk parser with the defined grammar\n",
    "chunk_parser = RegexpParser(chunk_grammar)\n",
    "\n",
    "# Parse the tagged sentence to extract chunks\n",
    "chunks = chunk_parser.parse(tagged)\n",
    "# Display the chunks\n",
    "for subtree in chunks.subtrees():\n",
    "    if subtree.label() == 'NP': # Print only noun phrases\n",
    "        print(subtree)"
   ]
  },
  {
   "cell_type": "code",
   "execution_count": null,
   "id": "7453d166",
   "metadata": {},
   "outputs": [],
   "source": []
  }
 ],
 "metadata": {
  "kernelspec": {
   "display_name": "Python 3 (ipykernel)",
   "language": "python",
   "name": "python3"
  },
  "language_info": {
   "codemirror_mode": {
    "name": "ipython",
    "version": 3
   },
   "file_extension": ".py",
   "mimetype": "text/x-python",
   "name": "python",
   "nbconvert_exporter": "python",
   "pygments_lexer": "ipython3",
   "version": "3.10.1"
  }
 },
 "nbformat": 4,
 "nbformat_minor": 5
}
