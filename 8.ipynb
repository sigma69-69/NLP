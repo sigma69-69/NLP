{
 "cells": [
  {
   "cell_type": "code",
   "execution_count": 11,
   "id": "303377d7",
   "metadata": {},
   "outputs": [
    {
     "name": "stderr",
     "output_type": "stream",
     "text": [
      "[nltk_data] Downloading package punkt to\n",
      "[nltk_data]     C:\\Users\\online\\AppData\\Roaming\\nltk_data...\n",
      "[nltk_data]   Package punkt is already up-to-date!\n",
      "[nltk_data] Downloading package stopwords to\n",
      "[nltk_data]     C:\\Users\\online\\AppData\\Roaming\\nltk_data...\n",
      "[nltk_data]   Package stopwords is already up-to-date!\n",
      "[nltk_data] Downloading package wordnet to\n",
      "[nltk_data]     C:\\Users\\online\\AppData\\Roaming\\nltk_data...\n",
      "[nltk_data]   Package wordnet is already up-to-date!\n"
     ]
    },
    {
     "name": "stdout",
     "output_type": "stream",
     "text": [
      "Customer Query: I received a damaged product. Can I get a refund?\n",
      "Semantic Analysis (Synonyms): ['pay_back', 'pose', 'sustain', 'start', 'mathematical_product', 'discredited', 'repay', 'stick', 'start_out', 'drive', 'contract', 'perplex', 'pay_off', 'repayment', 'bring_forth', 'merchandise', 'bewilder', 'puzzle', 'generate', 'aim', 'product', 'dumbfound', 'Cartesian_product', 'obtain', 'produce', 'received', 'draw', 'take_in', 'fetch', 'cause', 'scram', 'fuck_off', 'get', 'mystify', 'induce', 'return', 'find', 'arrest', \"get_under_one's_skin\", 'amaze', 'acquire', 'sire', 'have', 'become', 'flummox', 'set_out', 'damage', 'bring', 'take', 'engender', 'give_back', 'develop', 'fix', 'production', 'begin', 'suffer', 'convey', 'beat', 'grow', 'stimulate', 'come', 'set_about', 'standard', 'make', 'stupefy', 'experience', 'let', 'bugger_off', 'commence', 'catch', 'meet', 'encounter', 'capture', 'nonplus', 'receive', 'buzz_off', 'mother', 'damaged', 'intersection', 'refund', 'gravel', 'beget', 'go', 'ware', 'arrive', 'baffle', 'father', 'welcome', 'pick_up', 'incur', 'get_down', 'vex', 'invite']\n",
      "\n",
      "\n",
      "Customer Query: I'm having trouble accessing my account.\n",
      "Semantic Analysis (Synonyms): ['inconvenience_oneself', 'chronicle', 'difficulty', 'inconvenience', 'bill', 'trouble', 'report', 'score', 'pain', 'access', 'invoice', 'explanation', 'business_relationship', 'answer_for', 'news_report', 'calculate', 'story', 'account_statement', 'describe', 'perturb', 'upset', 'disquiet', 'put_out', 'accounting', 'distract', 'discommode', 'history', 'get_at', 'worry', 'disorder', 'incommode', 'fuss', 'write_up', 'disturb', 'ail', 'problem', 'bother', 'unhinge', 'hassle', 'account', 'disoblige', 'trouble_oneself', 'cark']\n",
      "\n",
      "\n",
      "Customer Query: How can I track my order status?\n",
      "Semantic Analysis (Synonyms): ['monastic_order', 'trail', 'cut_through', 'ordain', 'path', 'Holy_Order', 'say', 'parliamentary_law', 'dog', 'club', 'rail', 'decree', 'go_after', 'range', 'data_track', 'lead', 'rescript', 'dictate', 'tag', 'give_chase', 'govern', 'get_over', 'condition', 'Order', 'rate', 'edict', 'regularize', 'consecrate', 'guild', 'tail', 'course', 'order_of_magnitude', 'social_club', 'parliamentary_procedure', 'cart_track', 'chase_after', 'rank', 'cartroad', 'purchase_order', 'ordinate', 'fiat', 'rules_of_order', 'pass_over', 'traverse', 'chase', 'rails', 'get_across', 'set_up', 'raceway', 'racetrack', 'racecourse', 'society', 'caterpillar_track', 'orderliness', 'ordering', 'prescribe', 'status', 'regulate', 'cover', 'regularise', 'lodge', 'order', 'caterpillar_tread', 'runway', 'cut_across', 'position', 'running', 'tell', 'grade', 'gild', 'ordination', 'place', 'cut', 'put', 'enjoin', 'cross', 'track', 'arrange']\n",
      "\n",
      "\n",
      "Customer Query: The item I received doesn't match the description.\n",
      "Semantic Analysis (Synonyms): ['point', 'encounter', 'mate', 'couple', 'mates', 'item', 'peer', 'fit', 'play_off', 'agree', 'match', 'take_in', 'receive', 'compeer', 'oppose', 'equalise', 'token', 'cope_with', 'twin', 'description', 'verbal_description', 'pit', 'equalize', 'equal', 'friction_match', 'correspond', 'get', 'lucifer', 'jibe', 'detail', 'pair', 'find', 'gibe', 'touch', 'standard', 'check', 'have', 'experience', 'tally', 'rival', 'welcome', 'particular', 'pick_up', 'obtain', 'catch', 'incur', 'invite', 'meet', 'equate', 'received']\n",
      "\n",
      "\n",
      "Customer Query: Is there a discount available for bulk orders?\n",
      "Semantic Analysis (Synonyms): ['Order', 'bank_discount', 'price_reduction', 'discount', 'monastic_order', 'rate', 'ignore', 'deduction', 'order', 'edict', 'regularize', 'consecrate', 'guild', 'available', 'order_of_magnitude', 'social_club', 'ordain', 'parliamentary_procedure', 'society', 'brush_off', 'Holy_Order', 'say', 'bulk', 'rebate', 'discount_rate', 'volume', 'orderliness', 'parliamentary_law', 'ordering', 'club', 'tell', 'grade', 'rank', 'gild', 'ordination', 'prescribe', 'purchase_order', 'push_aside', 'majority', 'decree', 'ordinate', 'range', 'fiat', 'mass', 'regulate', 'rules_of_order', 'place', 'put', 'bulge', 'brush_aside', 'rescript', 'enjoin', 'dictate', 'uncommitted', 'regularise', 'lodge', 'govern', 'useable', 'usable', 'arrange', 'dismiss', 'set_up', 'disregard']\n",
      "\n",
      "\n"
     ]
    }
   ],
   "source": [
    "import nltk\n",
    "from nltk.corpus import wordnet\n",
    "from nltk.tokenize import word_tokenize\n",
    "from nltk.corpus import stopwords\n",
    "from nltk.stem import WordNetLemmatizer\n",
    "# Initialize NLTK resources\n",
    "nltk.download('punkt')\n",
    "nltk.download('stopwords')\n",
    "nltk.download('wordnet')\n",
    "# Function to perform semantic analysis\n",
    "def semantic_analysis(text):\n",
    "# Tokenize text\n",
    "    tokens = word_tokenize(text)\n",
    "        # Remove stopwords\n",
    "    stop_words = set(stopwords.words('english'))\n",
    "    filtered_tokens = [word for word in tokens if word.lower() not in stop_words]\n",
    "    # Lemmatization\n",
    "    lemmatizer = WordNetLemmatizer()\n",
    "    lemmatized_tokens = [lemmatizer.lemmatize(token) for token in filtered_tokens]\n",
    "    # Synonyms generation\n",
    "    synonyms = set()\n",
    "    for token in lemmatized_tokens:\n",
    "        for syn in wordnet.synsets(token):\n",
    "            for lemma in syn.lemmas():\n",
    "                synonyms.add(lemma.name())\n",
    "    return list(synonyms)\n",
    "# Example customer queries\n",
    "customer_queries = [\n",
    "\"I received a damaged product. Can I get a refund?\",\n",
    "\"I'm having trouble accessing my account.\",\n",
    "\"How can I track my order status?\",\n",
    "\"The item I received doesn't match the description.\",\n",
    "\"Is there a discount available for bulk orders?\"\n",
    "]\n",
    "# Semantic analysis for each query\n",
    "for query in customer_queries:\n",
    "    print(\"Customer Query:\", query)\n",
    "    synonyms = semantic_analysis(query)\n",
    "    print(\"Semantic Analysis (Synonyms):\", synonyms)\n",
    "    print(\"\\n\")"
   ]
  },
  {
   "cell_type": "code",
   "execution_count": null,
   "id": "5f9ba615",
   "metadata": {},
   "outputs": [],
   "source": []
  }
 ],
 "metadata": {
  "kernelspec": {
   "display_name": "Python 3 (ipykernel)",
   "language": "python",
   "name": "python3"
  },
  "language_info": {
   "codemirror_mode": {
    "name": "ipython",
    "version": 3
   },
   "file_extension": ".py",
   "mimetype": "text/x-python",
   "name": "python",
   "nbconvert_exporter": "python",
   "pygments_lexer": "ipython3",
   "version": "3.10.1"
  }
 },
 "nbformat": 4,
 "nbformat_minor": 5
}
