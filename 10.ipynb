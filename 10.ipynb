{
 "cells": [
  {
   "cell_type": "code",
   "execution_count": 2,
   "id": "3447e145",
   "metadata": {},
   "outputs": [
    {
     "name": "stdout",
     "output_type": "stream",
     "text": [
      "Review: This product is amazing! I love it.\n",
      "Sentiment: Positive\n",
      "Review: The product was good, but the packaging was damaged.\n",
      "Sentiment: Negative\n",
      "Review: Very disappointing experience. Would not recommend.\n",
      "Sentiment: Negative\n",
      "Review: Neutral feedback on the product.\n",
      "Sentiment: Neutral\n",
      "\n"
     ]
    },
    {
     "name": "stderr",
     "output_type": "stream",
     "text": [
      "[nltk_data] Downloading package vader_lexicon to\n",
      "[nltk_data]     C:\\Users\\online\\AppData\\Roaming\\nltk_data...\n",
      "[nltk_data]   Package vader_lexicon is already up-to-date!\n"
     ]
    }
   ],
   "source": [
    "import nltk\n",
    "from nltk.sentiment.vader import SentimentIntensityAnalyzer\n",
    "# Download NLTK resources (only required once)\n",
    "nltk.download('vader_lexicon')\n",
    "# Sample reviews\n",
    "reviews = [\n",
    "\"This product is amazing! I love it.\",\n",
    "\"The product was good, but the packaging was damaged.\",\n",
    "\"Very disappointing experience. Would not recommend.\",\n",
    "\"Neutral feedback on the product.\",\n",
    "]\n",
    "# Initialize Sentiment Intensity Analyzer\n",
    "sid = SentimentIntensityAnalyzer()\n",
    "# Analyze sentiment for each review\n",
    "for review in reviews:\n",
    "    print(\"Review:\", review)\n",
    "    scores = sid.polarity_scores(review)\n",
    "    print(\"Sentiment:\", end=' ')\n",
    "    if scores['compound'] > 0.05:\n",
    "        print(\"Positive\")\n",
    "    elif scores['compound'] < -0.05:\n",
    "        print(\"Negative\")\n",
    "    else:\n",
    "        print(\"Neutral\")\n",
    "        print()"
   ]
  },
  {
   "cell_type": "code",
   "execution_count": null,
   "id": "d7513843",
   "metadata": {},
   "outputs": [],
   "source": []
  }
 ],
 "metadata": {
  "kernelspec": {
   "display_name": "Python 3 (ipykernel)",
   "language": "python",
   "name": "python3"
  },
  "language_info": {
   "codemirror_mode": {
    "name": "ipython",
    "version": 3
   },
   "file_extension": ".py",
   "mimetype": "text/x-python",
   "name": "python",
   "nbconvert_exporter": "python",
   "pygments_lexer": "ipython3",
   "version": "3.10.1"
  }
 },
 "nbformat": 4,
 "nbformat_minor": 5
}
